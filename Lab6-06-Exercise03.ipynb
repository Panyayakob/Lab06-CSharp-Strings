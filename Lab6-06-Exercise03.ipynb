{
 "cells": [
  {
   "cell_type": "markdown",
   "metadata": {
    "dotnet_interactive": {
     "language": "csharp"
    },
    "polyglot_notebook": {
     "kernelName": "csharp"
    }
   },
   "source": [
    "# Lab 6 Exercise 3\n"
   ]
  },
  {
   "cell_type": "markdown",
   "metadata": {},
   "source": [
    "\n",
    "## Immutability of strings\n",
    "Immutability ของ strings หมายถึงคุณสมบัติที่ strings ไม่สามารถเปลี่ยนแปลงได้หลังจากที่ถูกสร้างขึ้นแล้ว เมื่อมีการพยายามแก้ไข string จะเกิดการสร้าง string ใหม่แทนที่จะเปลี่ยนแปลง string เดิม\n",
    "\n",
    "เมื่อเราสร้าง string ใน C#, ค่าของ string นั้นจะถูกเก็บไว้ในหน่วยความจำ และไม่สามารถเปลี่ยนแปลงได้โดยตรง หากต้องการเปลี่ยนแปลง string ก็จะต้องสร้าง string ใหม่ที่มีค่าที่ต้องการแทน\n",
    "\n",
    "ตัวอย่างเช่น:\n",
    "- ถ้ามี string `string s = \"hello\";` และต้องการเปลี่ยนตัวอักษรตัวแรกเป็น 'H' จะไม่สามารถทำได้โดยตรงด้วย `s[0] = 'H';` เพราะจะเกิดข้อผิดพลาด\n",
    "- แทนที่จะทำเช่นนั้น ก็ต้องสร้าง string ใหม่ เช่น `s = \"H\" + s.Substring(1);` ซึ่งจะสร้าง string ใหม่ที่มีค่าเป็น \"Hello\"\n",
    "\n",
    "Immutability ของ strings ใน C# มีข้อดีหลายประการ:\n",
    "1. ทำให้ strings ปลอดภัยต่อการใช้งานในหลาย ๆ thread พร้อมกัน เพราะค่าของมันไม่สามารถเปลี่ยนแปลงได้\n",
    "2. ทำให้ strings สามารถใช้เป็น keys ใน dictionaries และ elements ใน sets ได้ เพราะ hash value ของมันคงที่\n",
    "3. ช่วยให้เกิดการปรับปรุงประสิทธิภาพ เนื่องจาก string เดียวกันสามารถถูกใช้ซ้ำในหน่วยความจำได้ถ้าไม่มีการเปลี่ยนแปลง\n",
    "\n",
    "การเข้าใจ Immutability ของ strings ใน C# เป็นสิ่งสำคัญในการเขียนโค้ดที่มีประสิทธิภาพและปราศจากข้อผิดพลาด ช่วยให้โปรแกรมเมอร์คิดอย่างรอบคอบเกี่ยวกับการจัดการและการเปลี่ยนแปลงข้อมูล string ซึ่งมักจะนำไปสู่โปรแกรมที่มีความคาดเดาได้และดูแลรักษาได้ง่ายขึ้น"
   ]
  },
  {
   "cell_type": "markdown",
   "metadata": {},
   "source": [
    "## การปฏิบัติ"
   ]
  },
  {
   "cell_type": "markdown",
   "metadata": {},
   "source": [
    "1. สร้าง project ใหม่\n",
    "\n",
    "> ```\n",
    ">   dotnet new console -n Lab06_Exercise03\n",
    "> ```\n"
   ]
  },
  {
   "cell_type": "markdown",
   "metadata": {},
   "source": [
    "\n",
    "2. แก้ไข code ใน Program.cs เป็นดังนี้\n",
    "\n",
    "> ```c#\n",
    ">   string s1 = \"A string is more \";\n",
    ">   string s2 = \"than the sum of its chars.\";\n",
    ">   \n",
    ">   System.Console.WriteLine(\"Before Concatenate of s1 and s2\");\n",
    ">   System.Console.WriteLine($\"s1 = \\\"{s1}\\\", Hash code = {s1.GetHashCode():X}\");\n",
    ">   System.Console.WriteLine($\"s2 = \\\"{s2}\\\", Hash code = {s2.GetHashCode():X}\");\n",
    ">   // Concatenate s1 and s2. This actually creates a new\n",
    ">   // string object and stores it in s1, releasing the\n",
    ">   // reference to the original object.\n",
    ">   \n",
    ">   s1 += s2;\n",
    ">   \n",
    ">   System.Console.WriteLine(\"After Concatenate of s1 and s2\");\n",
    ">   System.Console.WriteLine($\"s1 = \\\"{s1}\\\", Hash code = {s1.GetHashCode():X}\");\n",
    ">   System.Console.WriteLine($\"s2 = \\\"{s2}\\\", Hash code = {s2.GetHashCode():X}\");\n",
    "> ```\n"
   ]
  },
  {
   "cell_type": "markdown",
   "metadata": {},
   "source": [
    "\n",
    "3. อธิบายโปรแกรม\n",
    "\n",
    "Immutable String:\n",
    "\n",
    "ใน C# สายอักขระ (string) เป็น immutable type หมายความว่าไม่สามารถเปลี่ยนค่าเดิมของออบเจ็กต์ได้\n",
    "การต่อสายอักขระ (+=) จะสร้าง ออบเจ็กต์ใหม่ และเก็บไว้ในตัวแปรเดิม (s1 ในกรณีนี้) โดยค่าเก่าจะถูกปล่อยให้ Garbage Collector จัดการ\n",
    "Hash Code:\n",
    "\n",
    "ค่า Hash Code \n",
    "ของออบเจ็กต์สายอักขระจะเปลี่ยนเมื่อสร้างออบเจ็กต์ใหม่\n",
    "s1 มีค่า Hash Code ใหม่หลังการต่อสาย เพราะเป็นออบเจ็กต์ใหม่\n",
    "s2 ยังคงไม่เปลี่ยนแปลง เพราะไม่ได้รับผลกระทบจากการดำเนินการ\n",
    "\n"
   ]
  },
  {
   "cell_type": "markdown",
   "metadata": {},
   "source": [
    "\n",
    "4. รันโปรแกรม\n",
    "\n",
    "> ```\n",
    ">   dotnet run --project Lab06_Exercise03\n",
    "> ```\n"
   ]
  },
  {
   "cell_type": "markdown",
   "metadata": {},
   "source": [
    "\n",
    "## ศึกษาเพิ่มเติม\n",
    "\n",
    "GetHashCode() method\n",
    "<https://learn.microsoft.com/en-us/dotnet/api/system.object.gethashcode?view=net-8.0>\n"
   ]
  },
  {
   "cell_type": "markdown",
   "metadata": {},
   "source": [
    "\n",
    "5. การส่งงาน\n",
    "\n",
    "บันทึกภาพหน้าจอโปรแกรม แนบในใบงานนี้"
   ]
  },
  {
   "attachments": {
    "image.png": {
     "image/png": "[encoded data removed]"
    }
   },
   "cell_type": "markdown",
   "metadata": {},
   "source": [
    "![image.png](attachment:image.png)\n",
    "\n"
   ]
  }
 ],
 "metadata": {
  "kernelspec": {
   "display_name": ".NET (C#)",
   "language": "C#",
   "name": ".net-csharp"
  },
  "polyglot_notebook": {
   "kernelInfo": {
    "defaultKernelName": "csharp",
    "items": [
     {
      "aliases": [],
      "languageName": "csharp",
      "name": "csharp"
     }
    ]
   }
  }
 },
 "nbformat": 4,
 "nbformat_minor": 2
}
